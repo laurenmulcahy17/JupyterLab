{
 "cells": [
  {
   "cell_type": "code",
   "execution_count": 3,
   "id": "b6e17ab1-2561-4dd1-acec-dfd556738dd4",
   "metadata": {},
   "outputs": [
    {
     "name": "stdin",
     "output_type": "stream",
     "text": [
      "What is your name? Lauren\n",
      "What is your age? 18\n"
     ]
    },
    {
     "name": "stdout",
     "output_type": "stream",
     "text": [
      "Hello, Lauren. You are turning 19 next year.\n"
     ]
    }
   ],
   "source": [
    "name= input(\"What is your name?\")\n",
    "age= int(input(\"What is your age?\"))\n",
    "print(\"Hello, \" + name + \". You are turning \" + str(age+1) + \" next year.\")"
   ]
  },
  {
   "cell_type": "code",
   "execution_count": null,
   "id": "067dddc9-20a0-41d7-82ca-9fed3764c8b9",
   "metadata": {},
   "outputs": [],
   "source": []
  }
 ],
 "metadata": {
  "kernelspec": {
   "display_name": "Python 3 (ipykernel)",
   "language": "python",
   "name": "python3"
  },
  "language_info": {
   "codemirror_mode": {
    "name": "ipython",
    "version": 3
   },
   "file_extension": ".py",
   "mimetype": "text/x-python",
   "name": "python",
   "nbconvert_exporter": "python",
   "pygments_lexer": "ipython3",
   "version": "3.11.13"
  }
 },
 "nbformat": 4,
 "nbformat_minor": 5
}
